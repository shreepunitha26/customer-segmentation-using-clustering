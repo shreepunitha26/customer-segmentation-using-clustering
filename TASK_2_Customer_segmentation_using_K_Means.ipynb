{
  "nbformat": 4,
  "nbformat_minor": 0,
  "metadata": {
    "colab": {
      "provenance": [],
      "authorship_tag": "ABX9TyPYhuJNxB1PMjdbFtQataqa",
      "include_colab_link": true
    },
    "kernelspec": {
      "name": "python3",
      "display_name": "Python 3"
    },
    "language_info": {
      "name": "python"
    }
  },
  "cells": [
    {
      "cell_type": "markdown",
      "metadata": {
        "id": "view-in-github",
        "colab_type": "text"
      },
      "source": [
        "<a href=\"https://colab.research.google.com/github/shreepunitha26/customer-segmentation-using-clustering/blob/main/TASK_2_Customer_segmentation_using_K_Means.ipynb\" target=\"_parent\"><img src=\"https://colab.research.google.com/assets/colab-badge.svg\" alt=\"Open In Colab\"/></a>"
      ]
    },
    {
      "cell_type": "markdown",
      "source": [
        "**Step 1: Import Libraries**"
      ],
      "metadata": {
        "id": "OabnfN5mUX6V"
      }
    },
    {
      "cell_type": "code",
      "source": [
        "import pandas as pd\n",
        "import matplotlib.pyplot as plt\n",
        "import seaborn as sns\n",
        "from sklearn.cluster import KMeans\n",
        "from sklearn.preprocessing import StandardScaler"
      ],
      "metadata": {
        "id": "1GQXx4xPUfFi"
      },
      "execution_count": null,
      "outputs": []
    },
    {
      "cell_type": "markdown",
      "source": [
        "**Step 2: Load the dataset**"
      ],
      "metadata": {
        "id": "zaZB90yUUxGV"
      }
    },
    {
      "cell_type": "code",
      "source": [
        "df = pd.read_csv('Retail Sales Analysis_utf.csv')  # Replace with your actual file\n",
        "df.head()"
      ],
      "metadata": {
        "colab": {
          "base_uri": "https://localhost:8080/",
          "height": 206
        },
        "id": "KNgTqHJNU2kk",
        "outputId": "a917cf03-0f60-4e39-c7af-bf08fe66aea7"
      },
      "execution_count": null,
      "outputs": [
        {
          "output_type": "execute_result",
          "data": {
            "text/plain": [
              "   transactions_id   sale_date sale_time  customer_id  gender   age  category  \\\n",
              "0              180  2022-11-05  10:47:00          117    Male  41.0  Clothing   \n",
              "1              522  2022-07-09  11:00:00           52    Male  46.0    Beauty   \n",
              "2              559  2022-12-12  10:48:00            5  Female  40.0  Clothing   \n",
              "3             1180  2022-01-06  08:53:00           85    Male  41.0  Clothing   \n",
              "4             1522  2022-11-14  08:35:00           48    Male  46.0    Beauty   \n",
              "\n",
              "   quantiy  price_per_unit   cogs  total_sale  \n",
              "0      3.0           300.0  129.0       900.0  \n",
              "1      3.0           500.0  145.0      1500.0  \n",
              "2      4.0           300.0   84.0      1200.0  \n",
              "3      3.0           300.0  129.0       900.0  \n",
              "4      3.0           500.0  235.0      1500.0  "
            ],
            "text/html": [
              "\n",
              "  <div id=\"df-2d851ae1-f95c-42bb-8917-f92d85b7bba1\" class=\"colab-df-container\">\n",
              "    <div>\n",
              "<style scoped>\n",
              "    .dataframe tbody tr th:only-of-type {\n",
              "        vertical-align: middle;\n",
              "    }\n",
              "\n",
              "    .dataframe tbody tr th {\n",
              "        vertical-align: top;\n",
              "    }\n",
              "\n",
              "    .dataframe thead th {\n",
              "        text-align: right;\n",
              "    }\n",
              "</style>\n",
              "<table border=\"1\" class=\"dataframe\">\n",
              "  <thead>\n",
              "    <tr style=\"text-align: right;\">\n",
              "      <th></th>\n",
              "      <th>transactions_id</th>\n",
              "      <th>sale_date</th>\n",
              "      <th>sale_time</th>\n",
              "      <th>customer_id</th>\n",
              "      <th>gender</th>\n",
              "      <th>age</th>\n",
              "      <th>category</th>\n",
              "      <th>quantiy</th>\n",
              "      <th>price_per_unit</th>\n",
              "      <th>cogs</th>\n",
              "      <th>total_sale</th>\n",
              "    </tr>\n",
              "  </thead>\n",
              "  <tbody>\n",
              "    <tr>\n",
              "      <th>0</th>\n",
              "      <td>180</td>\n",
              "      <td>2022-11-05</td>\n",
              "      <td>10:47:00</td>\n",
              "      <td>117</td>\n",
              "      <td>Male</td>\n",
              "      <td>41.0</td>\n",
              "      <td>Clothing</td>\n",
              "      <td>3.0</td>\n",
              "      <td>300.0</td>\n",
              "      <td>129.0</td>\n",
              "      <td>900.0</td>\n",
              "    </tr>\n",
              "    <tr>\n",
              "      <th>1</th>\n",
              "      <td>522</td>\n",
              "      <td>2022-07-09</td>\n",
              "      <td>11:00:00</td>\n",
              "      <td>52</td>\n",
              "      <td>Male</td>\n",
              "      <td>46.0</td>\n",
              "      <td>Beauty</td>\n",
              "      <td>3.0</td>\n",
              "      <td>500.0</td>\n",
              "      <td>145.0</td>\n",
              "      <td>1500.0</td>\n",
              "    </tr>\n",
              "    <tr>\n",
              "      <th>2</th>\n",
              "      <td>559</td>\n",
              "      <td>2022-12-12</td>\n",
              "      <td>10:48:00</td>\n",
              "      <td>5</td>\n",
              "      <td>Female</td>\n",
              "      <td>40.0</td>\n",
              "      <td>Clothing</td>\n",
              "      <td>4.0</td>\n",
              "      <td>300.0</td>\n",
              "      <td>84.0</td>\n",
              "      <td>1200.0</td>\n",
              "    </tr>\n",
              "    <tr>\n",
              "      <th>3</th>\n",
              "      <td>1180</td>\n",
              "      <td>2022-01-06</td>\n",
              "      <td>08:53:00</td>\n",
              "      <td>85</td>\n",
              "      <td>Male</td>\n",
              "      <td>41.0</td>\n",
              "      <td>Clothing</td>\n",
              "      <td>3.0</td>\n",
              "      <td>300.0</td>\n",
              "      <td>129.0</td>\n",
              "      <td>900.0</td>\n",
              "    </tr>\n",
              "    <tr>\n",
              "      <th>4</th>\n",
              "      <td>1522</td>\n",
              "      <td>2022-11-14</td>\n",
              "      <td>08:35:00</td>\n",
              "      <td>48</td>\n",
              "      <td>Male</td>\n",
              "      <td>46.0</td>\n",
              "      <td>Beauty</td>\n",
              "      <td>3.0</td>\n",
              "      <td>500.0</td>\n",
              "      <td>235.0</td>\n",
              "      <td>1500.0</td>\n",
              "    </tr>\n",
              "  </tbody>\n",
              "</table>\n",
              "</div>\n",
              "    <div class=\"colab-df-buttons\">\n",
              "\n",
              "  <div class=\"colab-df-container\">\n",
              "    <button class=\"colab-df-convert\" onclick=\"convertToInteractive('df-2d851ae1-f95c-42bb-8917-f92d85b7bba1')\"\n",
              "            title=\"Convert this dataframe to an interactive table.\"\n",
              "            style=\"display:none;\">\n",
              "\n",
              "  <svg xmlns=\"http://www.w3.org/2000/svg\" height=\"24px\" viewBox=\"0 -960 960 960\">\n",
              "    <path d=\"M120-120v-720h720v720H120Zm60-500h600v-160H180v160Zm220 220h160v-160H400v160Zm0 220h160v-160H400v160ZM180-400h160v-160H180v160Zm440 0h160v-160H620v160ZM180-180h160v-160H180v160Zm440 0h160v-160H620v160Z\"/>\n",
              "  </svg>\n",
              "    </button>\n",
              "\n",
              "  <style>\n",
              "    .colab-df-container {\n",
              "      display:flex;\n",
              "      gap: 12px;\n",
              "    }\n",
              "\n",
              "    .colab-df-convert {\n",
              "      background-color: #E8F0FE;\n",
              "      border: none;\n",
              "      border-radius: 50%;\n",
              "      cursor: pointer;\n",
              "      display: none;\n",
              "      fill: #1967D2;\n",
              "      height: 32px;\n",
              "      padding: 0 0 0 0;\n",
              "      width: 32px;\n",
              "    }\n",
              "\n",
              "    .colab-df-convert:hover {\n",
              "      background-color: #E2EBFA;\n",
              "      box-shadow: 0px 1px 2px rgba(60, 64, 67, 0.3), 0px 1px 3px 1px rgba(60, 64, 67, 0.15);\n",
              "      fill: #174EA6;\n",
              "    }\n",
              "\n",
              "    .colab-df-buttons div {\n",
              "      margin-bottom: 4px;\n",
              "    }\n",
              "\n",
              "    [theme=dark] .colab-df-convert {\n",
              "      background-color: #3B4455;\n",
              "      fill: #D2E3FC;\n",
              "    }\n",
              "\n",
              "    [theme=dark] .colab-df-convert:hover {\n",
              "      background-color: #434B5C;\n",
              "      box-shadow: 0px 1px 3px 1px rgba(0, 0, 0, 0.15);\n",
              "      filter: drop-shadow(0px 1px 2px rgba(0, 0, 0, 0.3));\n",
              "      fill: #FFFFFF;\n",
              "    }\n",
              "  </style>\n",
              "\n",
              "    <script>\n",
              "      const buttonEl =\n",
              "        document.querySelector('#df-2d851ae1-f95c-42bb-8917-f92d85b7bba1 button.colab-df-convert');\n",
              "      buttonEl.style.display =\n",
              "        google.colab.kernel.accessAllowed ? 'block' : 'none';\n",
              "\n",
              "      async function convertToInteractive(key) {\n",
              "        const element = document.querySelector('#df-2d851ae1-f95c-42bb-8917-f92d85b7bba1');\n",
              "        const dataTable =\n",
              "          await google.colab.kernel.invokeFunction('convertToInteractive',\n",
              "                                                    [key], {});\n",
              "        if (!dataTable) return;\n",
              "\n",
              "        const docLinkHtml = 'Like what you see? Visit the ' +\n",
              "          '<a target=\"_blank\" href=https://colab.research.google.com/notebooks/data_table.ipynb>data table notebook</a>'\n",
              "          + ' to learn more about interactive tables.';\n",
              "        element.innerHTML = '';\n",
              "        dataTable['output_type'] = 'display_data';\n",
              "        await google.colab.output.renderOutput(dataTable, element);\n",
              "        const docLink = document.createElement('div');\n",
              "        docLink.innerHTML = docLinkHtml;\n",
              "        element.appendChild(docLink);\n",
              "      }\n",
              "    </script>\n",
              "  </div>\n",
              "\n",
              "\n",
              "    <div id=\"df-c90ca2bd-d50d-4ea2-ada1-26b2ead510fb\">\n",
              "      <button class=\"colab-df-quickchart\" onclick=\"quickchart('df-c90ca2bd-d50d-4ea2-ada1-26b2ead510fb')\"\n",
              "                title=\"Suggest charts\"\n",
              "                style=\"display:none;\">\n",
              "\n",
              "<svg xmlns=\"http://www.w3.org/2000/svg\" height=\"24px\"viewBox=\"0 0 24 24\"\n",
              "     width=\"24px\">\n",
              "    <g>\n",
              "        <path d=\"M19 3H5c-1.1 0-2 .9-2 2v14c0 1.1.9 2 2 2h14c1.1 0 2-.9 2-2V5c0-1.1-.9-2-2-2zM9 17H7v-7h2v7zm4 0h-2V7h2v10zm4 0h-2v-4h2v4z\"/>\n",
              "    </g>\n",
              "</svg>\n",
              "      </button>\n",
              "\n",
              "<style>\n",
              "  .colab-df-quickchart {\n",
              "      --bg-color: #E8F0FE;\n",
              "      --fill-color: #1967D2;\n",
              "      --hover-bg-color: #E2EBFA;\n",
              "      --hover-fill-color: #174EA6;\n",
              "      --disabled-fill-color: #AAA;\n",
              "      --disabled-bg-color: #DDD;\n",
              "  }\n",
              "\n",
              "  [theme=dark] .colab-df-quickchart {\n",
              "      --bg-color: #3B4455;\n",
              "      --fill-color: #D2E3FC;\n",
              "      --hover-bg-color: #434B5C;\n",
              "      --hover-fill-color: #FFFFFF;\n",
              "      --disabled-bg-color: #3B4455;\n",
              "      --disabled-fill-color: #666;\n",
              "  }\n",
              "\n",
              "  .colab-df-quickchart {\n",
              "    background-color: var(--bg-color);\n",
              "    border: none;\n",
              "    border-radius: 50%;\n",
              "    cursor: pointer;\n",
              "    display: none;\n",
              "    fill: var(--fill-color);\n",
              "    height: 32px;\n",
              "    padding: 0;\n",
              "    width: 32px;\n",
              "  }\n",
              "\n",
              "  .colab-df-quickchart:hover {\n",
              "    background-color: var(--hover-bg-color);\n",
              "    box-shadow: 0 1px 2px rgba(60, 64, 67, 0.3), 0 1px 3px 1px rgba(60, 64, 67, 0.15);\n",
              "    fill: var(--button-hover-fill-color);\n",
              "  }\n",
              "\n",
              "  .colab-df-quickchart-complete:disabled,\n",
              "  .colab-df-quickchart-complete:disabled:hover {\n",
              "    background-color: var(--disabled-bg-color);\n",
              "    fill: var(--disabled-fill-color);\n",
              "    box-shadow: none;\n",
              "  }\n",
              "\n",
              "  .colab-df-spinner {\n",
              "    border: 2px solid var(--fill-color);\n",
              "    border-color: transparent;\n",
              "    border-bottom-color: var(--fill-color);\n",
              "    animation:\n",
              "      spin 1s steps(1) infinite;\n",
              "  }\n",
              "\n",
              "  @keyframes spin {\n",
              "    0% {\n",
              "      border-color: transparent;\n",
              "      border-bottom-color: var(--fill-color);\n",
              "      border-left-color: var(--fill-color);\n",
              "    }\n",
              "    20% {\n",
              "      border-color: transparent;\n",
              "      border-left-color: var(--fill-color);\n",
              "      border-top-color: var(--fill-color);\n",
              "    }\n",
              "    30% {\n",
              "      border-color: transparent;\n",
              "      border-left-color: var(--fill-color);\n",
              "      border-top-color: var(--fill-color);\n",
              "      border-right-color: var(--fill-color);\n",
              "    }\n",
              "    40% {\n",
              "      border-color: transparent;\n",
              "      border-right-color: var(--fill-color);\n",
              "      border-top-color: var(--fill-color);\n",
              "    }\n",
              "    60% {\n",
              "      border-color: transparent;\n",
              "      border-right-color: var(--fill-color);\n",
              "    }\n",
              "    80% {\n",
              "      border-color: transparent;\n",
              "      border-right-color: var(--fill-color);\n",
              "      border-bottom-color: var(--fill-color);\n",
              "    }\n",
              "    90% {\n",
              "      border-color: transparent;\n",
              "      border-bottom-color: var(--fill-color);\n",
              "    }\n",
              "  }\n",
              "</style>\n",
              "\n",
              "      <script>\n",
              "        async function quickchart(key) {\n",
              "          const quickchartButtonEl =\n",
              "            document.querySelector('#' + key + ' button');\n",
              "          quickchartButtonEl.disabled = true;  // To prevent multiple clicks.\n",
              "          quickchartButtonEl.classList.add('colab-df-spinner');\n",
              "          try {\n",
              "            const charts = await google.colab.kernel.invokeFunction(\n",
              "                'suggestCharts', [key], {});\n",
              "          } catch (error) {\n",
              "            console.error('Error during call to suggestCharts:', error);\n",
              "          }\n",
              "          quickchartButtonEl.classList.remove('colab-df-spinner');\n",
              "          quickchartButtonEl.classList.add('colab-df-quickchart-complete');\n",
              "        }\n",
              "        (() => {\n",
              "          let quickchartButtonEl =\n",
              "            document.querySelector('#df-c90ca2bd-d50d-4ea2-ada1-26b2ead510fb button');\n",
              "          quickchartButtonEl.style.display =\n",
              "            google.colab.kernel.accessAllowed ? 'block' : 'none';\n",
              "        })();\n",
              "      </script>\n",
              "    </div>\n",
              "\n",
              "    </div>\n",
              "  </div>\n"
            ],
            "application/vnd.google.colaboratory.intrinsic+json": {
              "type": "dataframe",
              "variable_name": "df",
              "summary": "{\n  \"name\": \"df\",\n  \"rows\": 2000,\n  \"fields\": [\n    {\n      \"column\": \"transactions_id\",\n      \"properties\": {\n        \"dtype\": \"number\",\n        \"std\": 577,\n        \"min\": 1,\n        \"max\": 2000,\n        \"num_unique_values\": 2000,\n        \"samples\": [\n          540,\n          1917,\n          1574\n        ],\n        \"semantic_type\": \"\",\n        \"description\": \"\"\n      }\n    },\n    {\n      \"column\": \"sale_date\",\n      \"properties\": {\n        \"dtype\": \"object\",\n        \"num_unique_values\": 647,\n        \"samples\": [\n          \"2023-09-02\",\n          \"2022-09-09\",\n          \"2023-10-19\"\n        ],\n        \"semantic_type\": \"\",\n        \"description\": \"\"\n      }\n    },\n    {\n      \"column\": \"sale_time\",\n      \"properties\": {\n        \"dtype\": \"object\",\n        \"num_unique_values\": 766,\n        \"samples\": [\n          \"20:21:00\",\n          \"14:45:00\",\n          \"18:46:00\"\n        ],\n        \"semantic_type\": \"\",\n        \"description\": \"\"\n      }\n    },\n    {\n      \"column\": \"customer_id\",\n      \"properties\": {\n        \"dtype\": \"number\",\n        \"std\": 44,\n        \"min\": 1,\n        \"max\": 155,\n        \"num_unique_values\": 155,\n        \"samples\": [\n          7,\n          140,\n          116\n        ],\n        \"semantic_type\": \"\",\n        \"description\": \"\"\n      }\n    },\n    {\n      \"column\": \"gender\",\n      \"properties\": {\n        \"dtype\": \"category\",\n        \"num_unique_values\": 2,\n        \"samples\": [\n          \"Female\",\n          \"Male\"\n        ],\n        \"semantic_type\": \"\",\n        \"description\": \"\"\n      }\n    },\n    {\n      \"column\": \"age\",\n      \"properties\": {\n        \"dtype\": \"number\",\n        \"std\": 13.668167217351831,\n        \"min\": 18.0,\n        \"max\": 64.0,\n        \"num_unique_values\": 47,\n        \"samples\": [\n          49.0,\n          21.0\n        ],\n        \"semantic_type\": \"\",\n        \"description\": \"\"\n      }\n    },\n    {\n      \"column\": \"category\",\n      \"properties\": {\n        \"dtype\": \"category\",\n        \"num_unique_values\": 3,\n        \"samples\": [\n          \"Clothing\",\n          \"Beauty\"\n        ],\n        \"semantic_type\": \"\",\n        \"description\": \"\"\n      }\n    },\n    {\n      \"column\": \"quantiy\",\n      \"properties\": {\n        \"dtype\": \"number\",\n        \"std\": 1.1327083692590536,\n        \"min\": 1.0,\n        \"max\": 4.0,\n        \"num_unique_values\": 4,\n        \"samples\": [\n          4.0,\n          2.0\n        ],\n        \"semantic_type\": \"\",\n        \"description\": \"\"\n      }\n    },\n    {\n      \"column\": \"price_per_unit\",\n      \"properties\": {\n        \"dtype\": \"number\",\n        \"std\": 189.685225155504,\n        \"min\": 25.0,\n        \"max\": 500.0,\n        \"num_unique_values\": 5,\n        \"samples\": [\n          500.0,\n          25.0\n        ],\n        \"semantic_type\": \"\",\n        \"description\": \"\"\n      }\n    },\n    {\n      \"column\": \"cogs\",\n      \"properties\": {\n        \"dtype\": \"number\",\n        \"std\": 121.89869521086429,\n        \"min\": 6.25,\n        \"max\": 620.0,\n        \"num_unique_values\": 276,\n        \"samples\": [\n          126.0,\n          11.5\n        ],\n        \"semantic_type\": \"\",\n        \"description\": \"\"\n      }\n    },\n    {\n      \"column\": \"total_sale\",\n      \"properties\": {\n        \"dtype\": \"number\",\n        \"std\": 560.1013807632453,\n        \"min\": 25.0,\n        \"max\": 2000.0,\n        \"num_unique_values\": 18,\n        \"samples\": [\n          900.0,\n          1500.0\n        ],\n        \"semantic_type\": \"\",\n        \"description\": \"\"\n      }\n    }\n  ]\n}"
            }
          },
          "metadata": {},
          "execution_count": 6
        }
      ]
    },
    {
      "cell_type": "markdown",
      "source": [
        "**Step 3: Basic Info**"
      ],
      "metadata": {
        "id": "X1BcvEitVSbF"
      }
    },
    {
      "cell_type": "code",
      "source": [
        "print(df.info())\n",
        "print(df.describe())\n",
        "print(\"Missing Values:\\n\", df.isnull().sum())\n"
      ],
      "metadata": {
        "colab": {
          "base_uri": "https://localhost:8080/"
        },
        "id": "JAM7sOGKVekz",
        "outputId": "b6147dc9-7aaf-420a-f60f-057d91cd40a5"
      },
      "execution_count": null,
      "outputs": [
        {
          "output_type": "stream",
          "name": "stdout",
          "text": [
            "<class 'pandas.core.frame.DataFrame'>\n",
            "RangeIndex: 2000 entries, 0 to 1999\n",
            "Data columns (total 11 columns):\n",
            " #   Column           Non-Null Count  Dtype  \n",
            "---  ------           --------------  -----  \n",
            " 0   transactions_id  2000 non-null   int64  \n",
            " 1   sale_date        2000 non-null   object \n",
            " 2   sale_time        2000 non-null   object \n",
            " 3   customer_id      2000 non-null   int64  \n",
            " 4   gender           2000 non-null   object \n",
            " 5   age              1990 non-null   float64\n",
            " 6   category         2000 non-null   object \n",
            " 7   quantiy          1997 non-null   float64\n",
            " 8   price_per_unit   1997 non-null   float64\n",
            " 9   cogs             1997 non-null   float64\n",
            " 10  total_sale       1997 non-null   float64\n",
            "dtypes: float64(5), int64(2), object(4)\n",
            "memory usage: 172.0+ KB\n",
            "None\n",
            "       transactions_id  customer_id          age      quantiy  price_per_unit  \\\n",
            "count      2000.000000  2000.000000  1990.000000  1997.000000     1997.000000   \n",
            "mean       1000.500000    66.341500    41.343216     2.512769      180.117677   \n",
            "std         577.494589    44.937185    13.668167     1.132708      189.685225   \n",
            "min           1.000000     1.000000    18.000000     1.000000       25.000000   \n",
            "25%         500.750000    24.000000    29.000000     1.000000       30.000000   \n",
            "50%        1000.500000    69.000000    42.000000     3.000000       50.000000   \n",
            "75%        1500.250000   102.000000    53.000000     4.000000      300.000000   \n",
            "max        2000.000000   155.000000    64.000000     4.000000      500.000000   \n",
            "\n",
            "              cogs   total_sale  \n",
            "count  1997.000000  1997.000000  \n",
            "mean     95.023886   456.544817  \n",
            "std     121.898695   560.101381  \n",
            "min       6.250000    25.000000  \n",
            "25%      13.000000    60.000000  \n",
            "50%      27.500000   150.000000  \n",
            "75%     147.000000   900.000000  \n",
            "max     620.000000  2000.000000  \n",
            "Missing Values:\n",
            " transactions_id     0\n",
            "sale_date           0\n",
            "sale_time           0\n",
            "customer_id         0\n",
            "gender              0\n",
            "age                10\n",
            "category            0\n",
            "quantiy             3\n",
            "price_per_unit      3\n",
            "cogs                3\n",
            "total_sale          3\n",
            "dtype: int64\n"
          ]
        }
      ]
    },
    {
      "cell_type": "markdown",
      "source": [
        "**Step 4: Feature selection for clustering**"
      ],
      "metadata": {
        "id": "l6mca-eXVn0m"
      }
    },
    {
      "cell_type": "code",
      "source": [
        "# Group by customer_id and aggregate purchase behavior\n",
        "df_grouped = df.groupby('customer_id')[['quantiy', 'total_sale', 'cogs']].sum().reset_index()\n",
        "\n",
        "# Select features for clustering\n",
        "X = df_grouped[['quantiy', 'total_sale', 'cogs']]\n",
        "\n",
        "# ✅ Print to verify the selected features\n",
        "print(\"✅ Features selected for clustering:\")\n",
        "print(X.head())  # Show first 5 rows\n"
      ],
      "metadata": {
        "colab": {
          "base_uri": "https://localhost:8080/"
        },
        "id": "vRwKLqUlVwyu",
        "outputId": "4e72603a-8919-45d8-8086-04219c9ce695"
      },
      "execution_count": null,
      "outputs": [
        {
          "output_type": "stream",
          "name": "stdout",
          "text": [
            "✅ Features selected for clustering:\n",
            "   quantiy  total_sale     cogs\n",
            "0    186.0     30750.0  4995.65\n",
            "1    154.0     25295.0  4820.25\n",
            "2    201.0     38440.0  5579.15\n",
            "3    164.0     23580.0  4133.05\n",
            "4    159.0     30405.0  4821.65\n"
          ]
        }
      ]
    },
    {
      "cell_type": "markdown",
      "source": [
        "**Step 5: Scaling the features**"
      ],
      "metadata": {
        "id": "PdTyctkcaV54"
      }
    },
    {
      "cell_type": "code",
      "source": [
        "from sklearn.preprocessing import StandardScaler\n",
        "\n",
        "scaler = StandardScaler()\n",
        "X_scaled = scaler.fit_transform(X)\n",
        "\n",
        "# ✅ Print the first 5 rows of scaled features\n",
        "print(\"✅ Scaled features (first 5 rows):\")\n",
        "print(X_scaled[:5])"
      ],
      "metadata": {
        "colab": {
          "base_uri": "https://localhost:8080/"
        },
        "id": "73gthU3Uajd1",
        "outputId": "e81b9481-19ed-4336-c4fe-450f8f0a0de2"
      },
      "execution_count": null,
      "outputs": [
        {
          "output_type": "stream",
          "name": "stdout",
          "text": [
            "✅ Scaled features (first 5 rows):\n",
            "[[5.33599163 4.66721695 3.90482898]\n",
            " [4.22451345 3.64342193 3.72322225]\n",
            " [5.85699703 6.11047702 4.50897681]\n",
            " [4.57185038 3.32155053 3.01170488]\n",
            " [4.39818191 4.60246731 3.72467179]]\n"
          ]
        }
      ]
    },
    {
      "cell_type": "markdown",
      "source": [
        "**Step 6: Elbow method to determine no of clusters**"
      ],
      "metadata": {
        "id": "UUcni41Vblkk"
      }
    },
    {
      "cell_type": "code",
      "source": [
        "from sklearn.cluster import KMeans\n",
        "import matplotlib.pyplot as plt\n",
        "\n",
        "# List to store within-cluster sum of squares\n",
        "wcss = []\n",
        "\n",
        "# Calculate WCSS for clusters from 1 to 10\n",
        "for i in range(1, 11):\n",
        "    kmeans = KMeans(n_clusters=i, random_state=42)\n",
        "    kmeans.fit(X_scaled)\n",
        "    wcss.append(kmeans.inertia_)\n",
        "\n",
        "# ✅ Print WCSS values\n",
        "print(\"✅ Within-Cluster Sum of Squares (WCSS) for 1 to 10 clusters:\")\n",
        "for i, val in enumerate(wcss, start=1):\n",
        "    print(f\"Clusters: {i}, WCSS: {val:.2f}\")\n",
        "\n",
        "# ✅ Plot the Elbow graph\n",
        "plt.plot(range(1, 11), wcss, marker='o', color='blue')\n",
        "plt.title('Elbow Method for Optimal Clusters')\n",
        "plt.xlabel('Number of Clusters')\n",
        "plt.ylabel('WCSS')\n",
        "plt.grid(True)\n",
        "plt.show()"
      ],
      "metadata": {
        "colab": {
          "base_uri": "https://localhost:8080/",
          "height": 663
        },
        "id": "4zJeR2abcG0d",
        "outputId": "bb04746d-6b15-40b8-c04b-2f396498e57e"
      },
      "execution_count": null,
      "outputs": [
        {
          "output_type": "stream",
          "name": "stdout",
          "text": [
            "✅ Within-Cluster Sum of Squares (WCSS) for 1 to 10 clusters:\n",
            "Clusters: 1, WCSS: 465.00\n",
            "Clusters: 2, WCSS: 165.28\n",
            "Clusters: 3, WCSS: 61.37\n",
            "Clusters: 4, WCSS: 43.94\n",
            "Clusters: 5, WCSS: 35.53\n",
            "Clusters: 6, WCSS: 32.53\n",
            "Clusters: 7, WCSS: 27.58\n",
            "Clusters: 8, WCSS: 23.67\n",
            "Clusters: 9, WCSS: 21.92\n",
            "Clusters: 10, WCSS: 20.18\n"
          ]
        },
        {
          "output_type": "display_data",
          "data": {
            "text/plain": [
              "<Figure size 640x480 with 1 Axes>"
            ],
            "image/png": "[encoded data removed]"
          },
          "metadata": {}
        }
      ]
    },
    {
      "cell_type": "markdown",
      "source": [
        "**Step 7: Applying K-Means clustering**"
      ],
      "metadata": {
        "id": "Hcqo_AlHdV6G"
      }
    },
    {
      "cell_type": "code",
      "source": [
        "# Apply KMeans with chosen number of clusters (change 4 to your elbow result)\n",
        "kmeans = KMeans(n_clusters=4, random_state=42)\n",
        "df_grouped['Cluster'] = kmeans.fit_predict(X_scaled)\n",
        "\n",
        "# ✅ Print the first 5 rows to verify cluster labels\n",
        "print(\"✅ Clustering applied successfully. First 5 rows with assigned cluster labels:\")\n",
        "print(df_grouped[['customer_id', 'quantiy', 'total_sale', 'cogs', 'Cluster']].head())"
      ],
      "metadata": {
        "colab": {
          "base_uri": "https://localhost:8080/"
        },
        "id": "s1YSZ_jZepMt",
        "outputId": "61bd24d7-eee7-47b4-e27c-5a2a5fd30516"
      },
      "execution_count": null,
      "outputs": [
        {
          "output_type": "stream",
          "name": "stdout",
          "text": [
            "✅ Clustering applied successfully. First 5 rows with assigned cluster labels:\n",
            "   customer_id  quantiy  total_sale     cogs  Cluster\n",
            "0            1    186.0     30750.0  4995.65        1\n",
            "1            2    154.0     25295.0  4820.25        1\n",
            "2            3    201.0     38440.0  5579.15        1\n",
            "3            4    164.0     23580.0  4133.05        1\n",
            "4            5    159.0     30405.0  4821.65        1\n"
          ]
        }
      ]
    },
    {
      "cell_type": "markdown",
      "source": [
        "**Step 8: Visualize the clusters**"
      ],
      "metadata": {
        "id": "FpryJWqaewZx"
      }
    },
    {
      "cell_type": "code",
      "source": [
        "import seaborn as sns\n",
        "import matplotlib.pyplot as plt\n",
        "\n",
        "# ✅ Scatter plot of clusters\n",
        "plt.figure(figsize=(8, 5))\n",
        "sns.scatterplot(\n",
        "    x='total_sale',\n",
        "    y='quantiy',\n",
        "    hue='Cluster',\n",
        "    data=df_grouped,\n",
        "    palette='Set2',\n",
        "    s=80\n",
        ")\n",
        "\n",
        "plt.title('✅ Customer Segments based on Sales and Quantity')\n",
        "plt.xlabel('Total Sale')\n",
        "plt.ylabel('Quantiy')  # Intentionally matching your column name typo\n",
        "plt.legend(title='Cluster')\n",
        "plt.grid(True)\n",
        "plt.tight_layout()\n",
        "plt.show()"
      ],
      "metadata": {
        "colab": {
          "base_uri": "https://localhost:8080/",
          "height": 576
        },
        "id": "s9yVgru7e70G",
        "outputId": "657e0b07-de4f-42b5-d979-746cea4eb57c"
      },
      "execution_count": null,
      "outputs": [
        {
          "output_type": "stream",
          "name": "stderr",
          "text": [
            "/tmp/ipython-input-23-3031691354.py:20: UserWarning: Glyph 9989 (\\N{WHITE HEAVY CHECK MARK}) missing from font(s) DejaVu Sans.\n",
            "  plt.tight_layout()\n",
            "/usr/local/lib/python3.11/dist-packages/IPython/core/pylabtools.py:151: UserWarning: Glyph 9989 (\\N{WHITE HEAVY CHECK MARK}) missing from font(s) DejaVu Sans.\n",
            "  fig.canvas.print_figure(bytes_io, **kw)\n"
          ]
        },
        {
          "output_type": "display_data",
          "data": {
            "text/plain": [
              "<Figure size 800x500 with 1 Axes>"
            ],
            "image/png": "[encoded data removed]"
          },
          "metadata": {}
        }
      ]
    }
  ]
}